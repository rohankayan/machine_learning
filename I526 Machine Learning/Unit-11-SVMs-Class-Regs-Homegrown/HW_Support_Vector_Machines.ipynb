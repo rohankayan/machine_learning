{
 "cells": [
  {
   "cell_type": "markdown",
   "metadata": {},
   "source": [
    "## Rubric Guideline for  HW \n",
    "\n",
    "Rubric for each HW question: \n",
    "* Downloaded the data correctly [5points]\n",
    "* Good EDA (Exploratory data analysis) [5points]\n",
    "* Metrics defined for success  [5points]\n",
    "* Use of pipelines [5 points]\n",
    "* Data prep (split into train, and test)  [10 points]\n",
    "  * fill in missing data\n",
    "  * standardizing the data\n",
    "  * categorical pipeline\n",
    "  * numerical pipeline\n",
    "* Machine learning pipeline (for a baseline) [5 points]\n",
    "* Experimental results table shown  [5 points]\n",
    "* Bonus points \n",
    "  * statistical significance tests a baseline versus challenger [for 5 bonus points]\n"
   ]
  },
  {
   "cell_type": "markdown",
   "metadata": {},
   "source": [
    "# Task: MNIST Handwritten Digit classification"
   ]
  },
  {
   "cell_type": "markdown",
   "metadata": {},
   "source": [
    "_Task: train an SVM classifier on the MNIST dataset. Since SVM classifiers are binary classifiers, you will need to use one-versus-all to classify all 10 digits. You may want to tune the hyperparameters using small validation sets to speed up the process. What accuracy can you reach?_\n",
    "\n",
    "** NOTE** The solution is partially filled in. But you will need to fill in the missing parts and run all cells, report results and your conclusions."
   ]
  },
  {
   "cell_type": "markdown",
   "metadata": {},
   "source": [
    "So lets train  on a dataset of handwritten numbers, with labels to tell us what the numbers should be. MNIST has 60,000 training examples, and 10,000 for testing.\n",
    "\n",
    "First, let's load the dataset and split it into a training set and a test set. We could use `train_test_split()` but people usually just take the first 60,000 instances for the training set, and the last 10,000 instances for the test set (this makes it possible to compare your model's performance with others): "
   ]
  },
  {
   "cell_type": "markdown",
   "metadata": {},
   "source": [
    "## Download MNSIT Data\n",
    "this might take a minute to download..retry if if fails\n"
   ]
  },
  {
   "cell_type": "code",
   "execution_count": 1,
   "metadata": {
    "collapsed": true
   },
   "outputs": [],
   "source": [
    "from sklearn.datasets import fetch_mldata\n",
    "\n",
    "mnist = fetch_mldata(\"MNIST original\")\n",
    "#mnist = fetch_mldata('mnist-original', data_home='d:\\\\')\n",
    "X = mnist[\"data\"]\n",
    "y = mnist[\"target\"]\n",
    "\n",
    "X_train = X[:60000]\n",
    "y_train = y[:60000]\n",
    "X_test = X[60000:]\n",
    "y_test = y[60000:]"
   ]
  },
  {
   "cell_type": "code",
   "execution_count": 2,
   "metadata": {},
   "outputs": [
    {
     "data": {
      "text/plain": [
       "array([ 0.,  0.,  0., ...,  9.,  9.,  9.])"
      ]
     },
     "execution_count": 2,
     "metadata": {},
     "output_type": "execute_result"
    }
   ],
   "source": [
    "y_train"
   ]
  },
  {
   "cell_type": "markdown",
   "metadata": {},
   "source": [
    "Many training algorithms are sensitive to the order of the training instances, so it's generally good practice to shuffle them first:"
   ]
  },
  {
   "cell_type": "code",
   "execution_count": 3,
   "metadata": {
    "collapsed": true
   },
   "outputs": [],
   "source": [
    "import numpy as np\n",
    "np.random.seed(42)\n",
    "rnd_idx = np.random.permutation(60000)\n",
    "X_train = X_train[rnd_idx]\n",
    "y_train = y_train[rnd_idx]"
   ]
  },
  {
   "cell_type": "markdown",
   "metadata": {},
   "source": [
    "## Train a linear SVM classifier"
   ]
  },
  {
   "cell_type": "markdown",
   "metadata": {},
   "source": [
    "Let's start simple, with a linear SVM classifier. It will automatically use the One-vs-All (also called One-vs-the-Rest, OvR) strategy, so there's nothing special we need to do. Easy!"
   ]
  },
  {
   "cell_type": "code",
   "execution_count": 4,
   "metadata": {},
   "outputs": [
    {
     "data": {
      "text/plain": [
       "LinearSVC(C=1.0, class_weight=None, dual=True, fit_intercept=True,\n",
       "     intercept_scaling=1, loss='squared_hinge', max_iter=1000,\n",
       "     multi_class='ovr', penalty='l2', random_state=42, tol=0.0001,\n",
       "     verbose=0)"
      ]
     },
     "execution_count": 4,
     "metadata": {},
     "output_type": "execute_result"
    }
   ],
   "source": [
    "from sklearn.svm import LinearSVC\n",
    "#might take a minute or two to train\n",
    "lin_clf = LinearSVC(random_state=42)\n",
    "lin_clf.fit(X_train, y_train)"
   ]
  },
  {
   "cell_type": "markdown",
   "metadata": {},
   "source": [
    "Let's make predictions on the training set and measure the accuracy (we don't want to measure it on the test set yet, since we have not selected and trained the final model yet):"
   ]
  },
  {
   "cell_type": "code",
   "execution_count": 5,
   "metadata": {},
   "outputs": [
    {
     "data": {
      "text/plain": [
       "0.85375000000000001"
      ]
     },
     "execution_count": 5,
     "metadata": {},
     "output_type": "execute_result"
    }
   ],
   "source": [
    "from sklearn.metrics import accuracy_score\n",
    "\n",
    "y_pred = lin_clf.predict(X_train)\n",
    "accuracy_score(y_train, y_pred)"
   ]
  },
  {
   "cell_type": "markdown",
   "metadata": {},
   "source": [
    "Wow, 82% accuracy on MNIST is a really bad performance. This linear model is certainly too simple for MNIST, but perhaps we just needed to scale the data first:"
   ]
  },
  {
   "cell_type": "markdown",
   "metadata": {},
   "source": [
    "## Standardize the data and put in a pipeline\n",
    "\n",
    "Standardize the data and put in a pipeline"
   ]
  },
  {
   "cell_type": "code",
   "execution_count": 6,
   "metadata": {
    "collapsed": true
   },
   "outputs": [],
   "source": [
    "from sklearn.preprocessing import StandardScaler\n",
    "scaler = StandardScaler()\n",
    "X_train_scaled = scaler.fit_transform(X_train.astype(np.float32))\n",
    "X_test_scaled = scaler.transform(X_test.astype(np.float32))"
   ]
  },
  {
   "cell_type": "code",
   "execution_count": 7,
   "metadata": {},
   "outputs": [
    {
     "data": {
      "text/plain": [
       "LinearSVC(C=1.0, class_weight=None, dual=True, fit_intercept=True,\n",
       "     intercept_scaling=1, loss='squared_hinge', max_iter=1000,\n",
       "     multi_class='ovr', penalty='l2', random_state=42, tol=0.0001,\n",
       "     verbose=0)"
      ]
     },
     "execution_count": 7,
     "metadata": {},
     "output_type": "execute_result"
    }
   ],
   "source": [
    "lin_clf = LinearSVC(random_state=42)\n",
    "lin_clf.fit(X_train_scaled, y_train)"
   ]
  },
  {
   "cell_type": "code",
   "execution_count": 8,
   "metadata": {},
   "outputs": [
    {
     "data": {
      "text/plain": [
       "0.9204"
      ]
     },
     "execution_count": 8,
     "metadata": {},
     "output_type": "execute_result"
    }
   ],
   "source": [
    "y_pred = lin_clf.predict(X_train_scaled)\n",
    "accuracy_score(y_train,y_pred)"
   ]
  },
  {
   "cell_type": "markdown",
   "metadata": {},
   "source": [
    "## Use non-linear kernels (RBFs, Polynomial?)\n",
    "\n",
    "Put everything in a **pipeline**."
   ]
  },
  {
   "cell_type": "markdown",
   "metadata": {},
   "source": [
    "That's much better (we cut the error rate in two), but still not great at all for MNIST. If we want to use an SVM, we will have to use a kernel. Let's try an `SVC` with an RBF kernel (the default).\n",
    "\n",
    "**Warning**: if you are using Scikit-Learn ≤ 0.19, the `SVC` class will use the One-vs-One (OvO) strategy by default, so you must explicitly set `decision_function_shape=\"ovr\"` if you want to use the OvR strategy instead (OvR is the default since 0.19)."
   ]
  },
  {
   "cell_type": "code",
   "execution_count": 9,
   "metadata": {},
   "outputs": [
    {
     "data": {
      "text/plain": [
       "SVC(C=1.0, cache_size=200, class_weight=None, coef0=0.0,\n",
       "  decision_function_shape='ovr', degree=3, gamma='auto', kernel='rbf',\n",
       "  max_iter=-1, probability=False, random_state=None, shrinking=True,\n",
       "  tol=0.001, verbose=False)"
      ]
     },
     "execution_count": 9,
     "metadata": {},
     "output_type": "execute_result"
    }
   ],
   "source": [
    "from sklearn.svm import SVC\n",
    "svm_clf = SVC(decision_function_shape=\"ovr\")\n",
    "svm_clf.fit(X_train_scaled[:10000], y_train[:10000])\n"
   ]
  },
  {
   "cell_type": "code",
   "execution_count": 10,
   "metadata": {},
   "outputs": [
    {
     "data": {
      "text/plain": [
       "0.94615000000000005"
      ]
     },
     "execution_count": 10,
     "metadata": {},
     "output_type": "execute_result"
    }
   ],
   "source": [
    "y_pred = svm_clf.predict(X_train_scaled)\n",
    "accuracy_score(y_train, y_pred)"
   ]
  },
  {
   "cell_type": "markdown",
   "metadata": {},
   "source": [
    "## Tune hyperparameters\n",
    "\n",
    "Put everything in a **pipeline**."
   ]
  },
  {
   "cell_type": "markdown",
   "metadata": {},
   "source": [
    "That's promising, we get better performance even though we trained the model on 6 times less data. Let's tune the hyperparameters by doing a randomized search with cross validation. We will do this on a small dataset just to speed up the process:"
   ]
  },
  {
   "cell_type": "code",
   "execution_count": 11,
   "metadata": {},
   "outputs": [
    {
     "name": "stdout",
     "output_type": "stream",
     "text": [
      "Fitting 3 folds for each of 10 candidates, totalling 30 fits\n",
      "[CV] C=79.5231605842, gamma=0.00176607465048 .........................\n",
      "[CV] .......... C=79.5231605842, gamma=0.00176607465048, total=   0.5s\n",
      "[CV] C=79.5231605842, gamma=0.00176607465048 .........................\n"
     ]
    },
    {
     "name": "stderr",
     "output_type": "stream",
     "text": [
      "[Parallel(n_jobs=1)]: Done   1 out of   1 | elapsed:    0.8s remaining:    0.0s\n"
     ]
    },
    {
     "name": "stdout",
     "output_type": "stream",
     "text": [
      "[CV] .......... C=79.5231605842, gamma=0.00176607465048, total=   0.5s\n",
      "[CV] C=79.5231605842, gamma=0.00176607465048 .........................\n",
      "[CV] .......... C=79.5231605842, gamma=0.00176607465048, total=   0.5s\n",
      "[CV] C=2.07005900705, gamma=0.00184893979432 .........................\n",
      "[CV] .......... C=2.07005900705, gamma=0.00184893979432, total=   0.5s\n",
      "[CV] C=2.07005900705, gamma=0.00184893979432 .........................\n",
      "[CV] .......... C=2.07005900705, gamma=0.00184893979432, total=   0.5s\n",
      "[CV] C=2.07005900705, gamma=0.00184893979432 .........................\n",
      "[CV] .......... C=2.07005900705, gamma=0.00184893979432, total=   0.5s\n",
      "[CV] C=89.8773818971, gamma=0.0408025396137 ..........................\n",
      "[CV] ........... C=89.8773818971, gamma=0.0408025396137, total=   0.7s\n",
      "[CV] C=89.8773818971, gamma=0.0408025396137 ..........................\n",
      "[CV] ........... C=89.8773818971, gamma=0.0408025396137, total=   0.7s\n",
      "[CV] C=89.8773818971, gamma=0.0408025396137 ..........................\n",
      "[CV] ........... C=89.8773818971, gamma=0.0408025396137, total=   0.6s\n",
      "[CV] C=48.997015194, gamma=0.00464565003701 ..........................\n",
      "[CV] ........... C=48.997015194, gamma=0.00464565003701, total=   0.6s\n",
      "[CV] C=48.997015194, gamma=0.00464565003701 ..........................\n",
      "[CV] ........... C=48.997015194, gamma=0.00464565003701, total=   0.6s\n",
      "[CV] C=48.997015194, gamma=0.00464565003701 ..........................\n",
      "[CV] ........... C=48.997015194, gamma=0.00464565003701, total=   0.6s\n",
      "[CV] C=59.4899112775, gamma=0.0157352905643 ..........................\n",
      "[CV] ........... C=59.4899112775, gamma=0.0157352905643, total=   0.6s\n",
      "[CV] C=59.4899112775, gamma=0.0157352905643 ..........................\n",
      "[CV] ........... C=59.4899112775, gamma=0.0157352905643, total=   0.6s\n",
      "[CV] C=59.4899112775, gamma=0.0157352905643 ..........................\n",
      "[CV] ........... C=59.4899112775, gamma=0.0157352905643, total=   0.6s\n",
      "[CV] C=88.4491791678, gamma=0.0294618722484 ..........................\n",
      "[CV] ........... C=88.4491791678, gamma=0.0294618722484, total=   0.6s\n",
      "[CV] C=88.4491791678, gamma=0.0294618722484 ..........................\n",
      "[CV] ........... C=88.4491791678, gamma=0.0294618722484, total=   0.6s\n",
      "[CV] C=88.4491791678, gamma=0.0294618722484 ..........................\n",
      "[CV] ........... C=88.4491791678, gamma=0.0294618722484, total=   0.6s\n",
      "[CV] C=29.2271785963, gamma=0.00614152194782 .........................\n",
      "[CV] .......... C=29.2271785963, gamma=0.00614152194782, total=   0.6s\n",
      "[CV] C=29.2271785963, gamma=0.00614152194782 .........................\n",
      "[CV] .......... C=29.2271785963, gamma=0.00614152194782, total=   0.6s\n",
      "[CV] C=29.2271785963, gamma=0.00614152194782 .........................\n",
      "[CV] .......... C=29.2271785963, gamma=0.00614152194782, total=   0.6s\n",
      "[CV] C=28.155233269, gamma=0.0219465853153 ...........................\n",
      "[CV] ............ C=28.155233269, gamma=0.0219465853153, total=   0.6s\n",
      "[CV] C=28.155233269, gamma=0.0219465853153 ...........................\n",
      "[CV] ............ C=28.155233269, gamma=0.0219465853153, total=   0.7s\n",
      "[CV] C=28.155233269, gamma=0.0219465853153 ...........................\n",
      "[CV] ............ C=28.155233269, gamma=0.0219465853153, total=   0.6s\n",
      "[CV] C=43.2924613427, gamma=0.00374501745191 .........................\n",
      "[CV] .......... C=43.2924613427, gamma=0.00374501745191, total=   0.6s\n",
      "[CV] C=43.2924613427, gamma=0.00374501745191 .........................\n",
      "[CV] .......... C=43.2924613427, gamma=0.00374501745191, total=   0.6s\n",
      "[CV] C=43.2924613427, gamma=0.00374501745191 .........................\n",
      "[CV] .......... C=43.2924613427, gamma=0.00374501745191, total=   0.6s\n",
      "[CV] C=39.9867874863, gamma=0.0224153322878 ..........................\n",
      "[CV] ........... C=39.9867874863, gamma=0.0224153322878, total=   0.6s\n",
      "[CV] C=39.9867874863, gamma=0.0224153322878 ..........................\n",
      "[CV] ........... C=39.9867874863, gamma=0.0224153322878, total=   0.6s\n",
      "[CV] C=39.9867874863, gamma=0.0224153322878 ..........................\n",
      "[CV] ........... C=39.9867874863, gamma=0.0224153322878, total=   0.7s\n"
     ]
    },
    {
     "name": "stderr",
     "output_type": "stream",
     "text": [
      "[Parallel(n_jobs=1)]: Done  30 out of  30 | elapsed:   29.6s finished\n"
     ]
    },
    {
     "data": {
      "text/plain": [
       "RandomizedSearchCV(cv=None, error_score='raise',\n",
       "          estimator=SVC(C=1.0, cache_size=200, class_weight=None, coef0=0.0,\n",
       "  decision_function_shape='ovr', degree=3, gamma='auto', kernel='rbf',\n",
       "  max_iter=-1, probability=False, random_state=None, shrinking=True,\n",
       "  tol=0.001, verbose=False),\n",
       "          fit_params={}, iid=True, n_iter=10, n_jobs=1,\n",
       "          param_distributions={'gamma': <scipy.stats._distn_infrastructure.rv_frozen object at 0x000001F4DA85A208>, 'C': <scipy.stats._distn_infrastructure.rv_frozen object at 0x000001F4DA85A710>},\n",
       "          pre_dispatch='2*n_jobs', random_state=None, refit=True,\n",
       "          return_train_score=True, scoring=None, verbose=2)"
      ]
     },
     "execution_count": 11,
     "metadata": {},
     "output_type": "execute_result"
    }
   ],
   "source": [
    "from sklearn.model_selection import RandomizedSearchCV\n",
    "from scipy.stats import reciprocal, uniform\n",
    "\n",
    "param_distributions = {\"gamma\": reciprocal(0.001, 0.1), \"C\": uniform(1, 100)}\n",
    "rnd_search_cv = RandomizedSearchCV(svm_clf, param_distributions, n_iter=10, verbose=2)\n",
    "rnd_search_cv.fit(X_train_scaled[:1000], y_train[:1000])  #### use a subset of the data to speed things up"
   ]
  },
  {
   "cell_type": "code",
   "execution_count": 12,
   "metadata": {},
   "outputs": [
    {
     "data": {
      "text/plain": [
       "SVC(C=79.523160584230865, cache_size=200, class_weight=None, coef0=0.0,\n",
       "  decision_function_shape='ovr', degree=3, gamma=0.001766074650481071,\n",
       "  kernel='rbf', max_iter=-1, probability=False, random_state=None,\n",
       "  shrinking=True, tol=0.001, verbose=False)"
      ]
     },
     "execution_count": 12,
     "metadata": {},
     "output_type": "execute_result"
    }
   ],
   "source": [
    "rnd_search_cv.best_estimator_"
   ]
  },
  {
   "cell_type": "code",
   "execution_count": 13,
   "metadata": {},
   "outputs": [
    {
     "data": {
      "text/plain": [
       "0.85599999999999998"
      ]
     },
     "execution_count": 13,
     "metadata": {},
     "output_type": "execute_result"
    }
   ],
   "source": [
    "rnd_search_cv.best_score_"
   ]
  },
  {
   "cell_type": "markdown",
   "metadata": {},
   "source": [
    "This looks pretty low but remember we only trained the model on 1,000 instances. Let's retrain the best estimator on the whole training set (run this at night, it will take hours):"
   ]
  },
  {
   "cell_type": "code",
   "execution_count": 14,
   "metadata": {},
   "outputs": [
    {
     "data": {
      "text/plain": [
       "SVC(C=79.523160584230865, cache_size=200, class_weight=None, coef0=0.0,\n",
       "  decision_function_shape='ovr', degree=3, gamma=0.001766074650481071,\n",
       "  kernel='rbf', max_iter=-1, probability=False, random_state=None,\n",
       "  shrinking=True, tol=0.001, verbose=False)"
      ]
     },
     "execution_count": 14,
     "metadata": {},
     "output_type": "execute_result"
    }
   ],
   "source": [
    "rnd_search_cv.best_estimator_.fit(X_train_scaled, y_train)"
   ]
  },
  {
   "cell_type": "code",
   "execution_count": null,
   "metadata": {},
   "outputs": [],
   "source": [
    "y_pred = rnd_search_cv.best_estimator_.predict(X_train_scaled)\n",
    "accuracy_score(y_train, y_pred)"
   ]
  },
  {
   "cell_type": "markdown",
   "metadata": {},
   "source": [
    "Ah, this looks good! Let's select this model. Now we can test it on the test set:"
   ]
  },
  {
   "cell_type": "code",
   "execution_count": null,
   "metadata": {},
   "outputs": [],
   "source": [
    "y_pred = rnd_search_cv.best_estimator_.predict(X_test_scaled)\n",
    "accuracy_score(y_test, y_pred)"
   ]
  },
  {
   "cell_type": "markdown",
   "metadata": {},
   "source": [
    "Not too bad, but apparently the model is overfitting slightly. It's tempting to tweak the hyperparameters a bit more (e.g. decreasing `C` and/or `gamma`), but we would run the risk of overfitting the test set. Other people have found that the hyperparameters `C=5` and `gamma=0.005` yield even better performance (over 98% accuracy). By running the randomized search for longer and on a larger part of the training set, you may be able to find this as well."
   ]
  },
  {
   "cell_type": "markdown",
   "metadata": {},
   "source": [
    "# Task: Regression"
   ]
  },
  {
   "cell_type": "markdown",
   "metadata": {},
   "source": [
    "Using the California housing dataset train and tune up an SVM regressor pipeline. Is your best SVR pipeline statistically significantly better than randomforests?\n",
    "\n",
    "For information on the see [here](http://scikit-learn.org/stable/modules/generated/sklearn.datasets.fetch_california_housing.html)\n",
    "\n",
    "* This dataset consists of 20,640 samples and 9 features.\n",
    "\n",
    "\n",
    "** NOTE** The solution is partially filled in. But you will need to fill in the missing parts and run all cells, report results and your conclusions.\n"
   ]
  },
  {
   "cell_type": "markdown",
   "metadata": {},
   "source": [
    "## Download data and do EDA"
   ]
  },
  {
   "cell_type": "markdown",
   "metadata": {},
   "source": [
    "Let's load the dataset using Scikit-Learn's `fetch_california_housing()` function:"
   ]
  },
  {
   "cell_type": "code",
   "execution_count": 39,
   "metadata": {},
   "outputs": [],
   "source": [
    "from sklearn.datasets import fetch_california_housing\n",
    "\n",
    "housing = fetch_california_housing(data_home='/Users/rohan.kayan/scikit_learn_data')\n",
    "X = housing[\"data\"]\n",
    "y = housing[\"target\"]"
   ]
  },
  {
   "cell_type": "code",
   "execution_count": 40,
   "metadata": {},
   "outputs": [
    {
     "data": {
      "text/plain": [
       "'California housing dataset.\\n\\nThe original database is available from StatLib\\n\\n    http://lib.stat.cmu.edu/\\n\\nThe data contains 20,640 observations on 9 variables.\\n\\nThis dataset contains the average house value as target variable\\nand the following input variables (features): average income,\\nhousing average age, average rooms, average bedrooms, population,\\naverage occupation, latitude, and longitude in that order.\\n\\nReferences\\n----------\\n\\nPace, R. Kelley and Ronald Barry, Sparse Spatial Autoregressions,\\nStatistics and Probability Letters, 33 (1997) 291-297.\\n\\n'"
      ]
     },
     "execution_count": 40,
     "metadata": {},
     "output_type": "execute_result"
    }
   ],
   "source": [
    "housing.DESCR"
   ]
  },
  {
   "cell_type": "code",
   "execution_count": 41,
   "metadata": {},
   "outputs": [
    {
     "data": {
      "text/plain": [
       "['MedInc',\n",
       " 'HouseAge',\n",
       " 'AveRooms',\n",
       " 'AveBedrms',\n",
       " 'Population',\n",
       " 'AveOccup',\n",
       " 'Latitude',\n",
       " 'Longitude']"
      ]
     },
     "execution_count": 41,
     "metadata": {},
     "output_type": "execute_result"
    }
   ],
   "source": [
    "housing.feature_names"
   ]
  },
  {
   "cell_type": "code",
   "execution_count": 42,
   "metadata": {},
   "outputs": [
    {
     "data": {
      "image/png": "[encoded data removed]",
      "text/plain": [
       "<matplotlib.figure.Figure at 0x1f48d0458d0>"
      ]
     },
     "metadata": {},
     "output_type": "display_data"
    }
   ],
   "source": [
    "%matplotlib inline\n",
    "import matplotlib.pyplot as plt\n",
    "import pandas as pd\n",
    "\n",
    "df=pd.DataFrame(X, columns=housing.feature_names)\n",
    "df.hist(bins=50, figsize=(20,15))\n",
    "plt.show()"
   ]
  },
  {
   "cell_type": "markdown",
   "metadata": {},
   "source": [
    "In this training set, the targets are hundreds of thousands of dollars. "
   ]
  },
  {
   "cell_type": "code",
   "execution_count": 43,
   "metadata": {},
   "outputs": [
    {
     "data": {
      "text/plain": [
       "array([[<matplotlib.axes._subplots.AxesSubplot object at 0x000001F48022E2B0>]], dtype=object)"
      ]
     },
     "execution_count": 43,
     "metadata": {},
     "output_type": "execute_result"
    },
    {
     "data": {
      "image/png": "[encoded data removed]",
      "text/plain": [
       "<matplotlib.figure.Figure at 0x1f4800c0828>"
      ]
     },
     "metadata": {},
     "output_type": "display_data"
    }
   ],
   "source": [
    "# Plot Target variable\n",
    "# Target variable has been scaled by $100,000\n",
    "pd.DataFrame(y).hist()"
   ]
  },
  {
   "cell_type": "markdown",
   "metadata": {},
   "source": [
    "Split it into a training set and a test set:"
   ]
  },
  {
   "cell_type": "code",
   "execution_count": 44,
   "metadata": {
    "collapsed": true
   },
   "outputs": [],
   "source": [
    "from sklearn.model_selection import train_test_split\n",
    "\n",
    "X_train, X_test, y_train, y_test = train_test_split(X, y, test_size=0.2, random_state=42)"
   ]
  },
  {
   "cell_type": "markdown",
   "metadata": {},
   "source": [
    "## Build a baseline pipeline"
   ]
  },
  {
   "cell_type": "markdown",
   "metadata": {},
   "source": [
    "Don't forget to scale the data and use pipeline. Add pipelines here."
   ]
  },
  {
   "cell_type": "code",
   "execution_count": 45,
   "metadata": {
    "collapsed": true
   },
   "outputs": [],
   "source": [
    "from sklearn.preprocessing import StandardScaler\n",
    "\n",
    "scaler = StandardScaler()\n",
    "X_train_scaled = scaler.fit_transform(X_train)\n",
    "X_test_scaled = scaler.transform(X_test)"
   ]
  },
  {
   "cell_type": "markdown",
   "metadata": {},
   "source": [
    "Let's train a simple `LinearSVR` first:"
   ]
  },
  {
   "cell_type": "code",
   "execution_count": 46,
   "metadata": {},
   "outputs": [
    {
     "data": {
      "text/plain": [
       "LinearSVR(C=1.0, dual=True, epsilon=0.0, fit_intercept=True,\n",
       "     intercept_scaling=1.0, loss='epsilon_insensitive', max_iter=1000,\n",
       "     random_state=42, tol=0.0001, verbose=0)"
      ]
     },
     "execution_count": 46,
     "metadata": {},
     "output_type": "execute_result"
    }
   ],
   "source": [
    "from sklearn.svm import LinearSVR\n",
    "\n",
    "lin_svr = LinearSVR(random_state=42)\n",
    "lin_svr.fit(X_train_scaled, y_train)"
   ]
  },
  {
   "cell_type": "markdown",
   "metadata": {},
   "source": [
    "Let's see how it performs on the training set:"
   ]
  },
  {
   "cell_type": "code",
   "execution_count": 47,
   "metadata": {},
   "outputs": [
    {
     "data": {
      "text/plain": [
       "0.96128066532972722"
      ]
     },
     "execution_count": 47,
     "metadata": {},
     "output_type": "execute_result"
    }
   ],
   "source": [
    "from sklearn.metrics import mean_squared_error\n",
    "\n",
    "y_pred = lin_svr.predict(X_train_scaled)\n",
    "mse = mean_squared_error(y_train, y_pred)\n",
    "mse"
   ]
  },
  {
   "cell_type": "markdown",
   "metadata": {},
   "source": [
    "Let's look at the RMSE:"
   ]
  },
  {
   "cell_type": "code",
   "execution_count": 48,
   "metadata": {},
   "outputs": [
    {
     "data": {
      "text/plain": [
       "0.98044921608909819"
      ]
     },
     "execution_count": 48,
     "metadata": {},
     "output_type": "execute_result"
    }
   ],
   "source": [
    "import numpy as np\n",
    "np.sqrt(mse)"
   ]
  },
  {
   "cell_type": "markdown",
   "metadata": {},
   "source": [
    "In this training set, the targets are tens of thousands of dollars. The RMSE gives a rough idea of the kind of error you should expect (with a higher weight for large errors): so with this model we can expect errors somewhere around $100,000. Not great. "
   ]
  },
  {
   "cell_type": "markdown",
   "metadata": {},
   "source": [
    "## Tune hyperparameters of SVR\n",
    "Let's see if we can do better with an RBF Kernel. We will use randomized search with cross validation to find the appropriate hyperparameter values for `C` and `gamma`:"
   ]
  },
  {
   "cell_type": "code",
   "execution_count": 49,
   "metadata": {},
   "outputs": [
    {
     "name": "stdout",
     "output_type": "stream",
     "text": [
      "Fitting 3 folds for each of 10 candidates, totalling 30 fits\n",
      "[CV] C=38.4540118847, gamma=0.0796945481864 ..........................\n",
      "[CV] ........... C=38.4540118847, gamma=0.0796945481864, total=  13.6s\n",
      "[CV] C=38.4540118847, gamma=0.0796945481864 ..........................\n"
     ]
    },
    {
     "name": "stderr",
     "output_type": "stream",
     "text": [
      "[Parallel(n_jobs=1)]: Done   1 out of   1 | elapsed:   15.7s remaining:    0.0s\n"
     ]
    },
    {
     "name": "stdout",
     "output_type": "stream",
     "text": [
      "[CV] ........... C=38.4540118847, gamma=0.0796945481864, total=  13.5s\n",
      "[CV] C=38.4540118847, gamma=0.0796945481864 ..........................\n",
      "[CV] ........... C=38.4540118847, gamma=0.0796945481864, total=  14.1s\n",
      "[CV] C=74.1993941811, gamma=0.0157513204998 ..........................\n",
      "[CV] ........... C=74.1993941811, gamma=0.0157513204998, total=  10.3s\n",
      "[CV] C=74.1993941811, gamma=0.0157513204998 ..........................\n",
      "[CV] ........... C=74.1993941811, gamma=0.0157513204998, total=  10.1s\n",
      "[CV] C=74.1993941811, gamma=0.0157513204998 ..........................\n",
      "[CV] ........... C=74.1993941811, gamma=0.0157513204998, total=   9.9s\n",
      "[CV] C=16.6018640442, gamma=0.00205111041884 .........................\n",
      "[CV] .......... C=16.6018640442, gamma=0.00205111041884, total=   5.4s\n",
      "[CV] C=16.6018640442, gamma=0.00205111041884 .........................\n",
      "[CV] .......... C=16.6018640442, gamma=0.00205111041884, total=   5.3s\n",
      "[CV] C=16.6018640442, gamma=0.00205111041884 .........................\n",
      "[CV] .......... C=16.6018640442, gamma=0.00205111041884, total=   5.4s\n",
      "[CV] C=6.80836121682, gamma=0.0539948440979 ..........................\n",
      "[CV] ........... C=6.80836121682, gamma=0.0539948440979, total=   6.1s\n",
      "[CV] C=6.80836121682, gamma=0.0539948440979 ..........................\n",
      "[CV] ........... C=6.80836121682, gamma=0.0539948440979, total=   6.2s\n",
      "[CV] C=6.80836121682, gamma=0.0539948440979 ..........................\n",
      "[CV] ........... C=6.80836121682, gamma=0.0539948440979, total=   6.2s\n",
      "[CV] C=61.1115011743, gamma=0.0260702475837 ..........................\n",
      "[CV] ........... C=61.1115011743, gamma=0.0260702475837, total=  10.6s\n",
      "[CV] C=61.1115011743, gamma=0.0260702475837 ..........................\n",
      "[CV] ........... C=61.1115011743, gamma=0.0260702475837, total=  10.9s\n",
      "[CV] C=61.1115011743, gamma=0.0260702475837 ..........................\n",
      "[CV] ........... C=61.1115011743, gamma=0.0260702475837, total=  10.7s\n",
      "[CV] C=3.05844942958, gamma=0.087060208783 ...........................\n",
      "[CV] ............ C=3.05844942958, gamma=0.087060208783, total=   5.5s\n",
      "[CV] C=3.05844942958, gamma=0.087060208783 ...........................\n",
      "[CV] ............ C=3.05844942958, gamma=0.087060208783, total=   5.6s\n",
      "[CV] C=3.05844942958, gamma=0.087060208783 ...........................\n",
      "[CV] ............ C=3.05844942958, gamma=0.087060208783, total=   5.7s\n",
      "[CV] C=84.24426408, gamma=0.00265875439833 ...........................\n",
      "[CV] ............ C=84.24426408, gamma=0.00265875439833, total=   6.6s\n",
      "[CV] C=84.24426408, gamma=0.00265875439833 ...........................\n",
      "[CV] ............ C=84.24426408, gamma=0.00265875439833, total=   6.6s\n",
      "[CV] C=84.24426408, gamma=0.00265875439833 ...........................\n",
      "[CV] ............ C=84.24426408, gamma=0.00265875439833, total=   6.5s\n",
      "[CV] C=19.1824967207, gamma=0.00232706770838 .........................\n",
      "[CV] .......... C=19.1824967207, gamma=0.00232706770838, total=   5.3s\n",
      "[CV] C=19.1824967207, gamma=0.00232706770838 .........................\n",
      "[CV] .......... C=19.1824967207, gamma=0.00232706770838, total=   5.6s\n",
      "[CV] C=19.1824967207, gamma=0.00232706770838 .........................\n",
      "[CV] .......... C=19.1824967207, gamma=0.00232706770838, total=   5.4s\n",
      "[CV] C=31.424224296, gamma=0.0112076062119 ...........................\n",
      "[CV] ............ C=31.424224296, gamma=0.0112076062119, total=   6.8s\n",
      "[CV] C=31.424224296, gamma=0.0112076062119 ...........................\n",
      "[CV] ............ C=31.424224296, gamma=0.0112076062119, total=   6.5s\n",
      "[CV] C=31.424224296, gamma=0.0112076062119 ...........................\n",
      "[CV] ............ C=31.424224296, gamma=0.0112076062119, total=   6.8s\n",
      "[CV] C=44.1945018642, gamma=0.00382347522468 .........................\n",
      "[CV] .......... C=44.1945018642, gamma=0.00382347522468, total=   6.3s\n",
      "[CV] C=44.1945018642, gamma=0.00382347522468 .........................\n",
      "[CV] .......... C=44.1945018642, gamma=0.00382347522468, total=   6.1s\n",
      "[CV] C=44.1945018642, gamma=0.00382347522468 .........................\n",
      "[CV] .......... C=44.1945018642, gamma=0.00382347522468, total=   6.2s\n"
     ]
    },
    {
     "name": "stderr",
     "output_type": "stream",
     "text": [
      "[Parallel(n_jobs=1)]: Done  30 out of  30 | elapsed:  5.0min finished\n"
     ]
    },
    {
     "data": {
      "text/plain": [
       "RandomizedSearchCV(cv=None, error_score='raise',\n",
       "          estimator=SVR(C=1.0, cache_size=200, coef0=0.0, degree=3, epsilon=0.1, gamma='auto',\n",
       "  kernel='rbf', max_iter=-1, shrinking=True, tol=0.001, verbose=False),\n",
       "          fit_params={}, iid=True, n_iter=10, n_jobs=1,\n",
       "          param_distributions={'gamma': <scipy.stats._distn_infrastructure.rv_frozen object at 0x000001F480269BA8>, 'C': <scipy.stats._distn_infrastructure.rv_frozen object at 0x000001F480264EB8>},\n",
       "          pre_dispatch='2*n_jobs', random_state=42, refit=True,\n",
       "          return_train_score=True, scoring=None, verbose=2)"
      ]
     },
     "execution_count": 49,
     "metadata": {},
     "output_type": "execute_result"
    }
   ],
   "source": [
    "from sklearn.svm import SVR\n",
    "from sklearn.model_selection import RandomizedSearchCV\n",
    "from scipy.stats import reciprocal, uniform\n",
    "\n",
    "param_distributions = {\"gamma\": reciprocal(0.001, 0.1), \"C\": uniform(1, 100)}\n",
    "rnd_search_cv = RandomizedSearchCV(SVR(), param_distributions, n_iter=10, verbose=2, random_state=42)\n",
    "rnd_search_cv.fit(X_train_scaled, y_train)"
   ]
  },
  {
   "cell_type": "code",
   "execution_count": 50,
   "metadata": {},
   "outputs": [
    {
     "data": {
      "text/plain": [
       "SVR(C=38.454011884736246, cache_size=200, coef0=0.0, degree=3, epsilon=0.1,\n",
       "  gamma=0.079694548186439285, kernel='rbf', max_iter=-1, shrinking=True,\n",
       "  tol=0.001, verbose=False)"
      ]
     },
     "execution_count": 50,
     "metadata": {},
     "output_type": "execute_result"
    }
   ],
   "source": [
    "rnd_search_cv.best_estimator_"
   ]
  },
  {
   "cell_type": "markdown",
   "metadata": {},
   "source": [
    "Now let's measure the RMSE on the training set:"
   ]
  },
  {
   "cell_type": "code",
   "execution_count": 51,
   "metadata": {},
   "outputs": [
    {
     "data": {
      "text/plain": [
       "0.5446663900096772"
      ]
     },
     "execution_count": 51,
     "metadata": {},
     "output_type": "execute_result"
    }
   ],
   "source": [
    "y_pred = rnd_search_cv.best_estimator_.predict(X_train_scaled)\n",
    "mse = mean_squared_error(y_train, y_pred)\n",
    "np.sqrt(mse)"
   ]
  },
  {
   "cell_type": "markdown",
   "metadata": {},
   "source": [
    "Looks much better than the linear model. Let's select this model and evaluate it on the test set:"
   ]
  },
  {
   "cell_type": "code",
   "execution_count": 59,
   "metadata": {},
   "outputs": [],
   "source": [
    "y_pred = rnd_search_cv.best_estimator_.predict(X_test_scaled)\n",
    "mse = mean_squared_error(y_test, y_pred)\n",
    "rnd_search_rmse = np.sqrt(mse)"
   ]
  },
  {
   "cell_type": "markdown",
   "metadata": {},
   "source": [
    "## TASK: Contrast with a random forest with 100 decision trees with a depth of 10."
   ]
  },
  {
   "cell_type": "code",
   "execution_count": 53,
   "metadata": {},
   "outputs": [],
   "source": [
    "from sklearn.ensemble import RandomForestRegressor\n",
    "from sklearn.model_selection import RandomizedSearchCV\n",
    "from scipy.stats import reciprocal, uniform, randint\n",
    "\n",
    "param_distributions = {\"n_estimators\": randint(low=1,high=200), \"max_features\": randint(low=1, high=8)}\n",
    "\n",
    "#rnd_search_cv = RandomizedSearchCV(RandomForestRegressor(), param_distributions, n_iter=10, verbose=2, random_state=42)\n",
    "#rnd_search_cv.fit(X_train_scaled, y_train)\n",
    "\n",
    "rfr = RandomForestRegressor(n_estimators=100,max_depth=10)\n",
    "rfr.fit(X_train_scaled, y_train)\n",
    "\n",
    "#Random Forest Regressor \n",
    "y_pred = rfr.predict(X_test_scaled)\n",
    "mse = mean_squared_error(y_test, y_pred)\n",
    "rmse_rfr = np.sqrt(mse)"
   ]
  },
  {
   "cell_type": "code",
   "execution_count": 54,
   "metadata": {},
   "outputs": [
    {
     "data": {
      "text/plain": [
       "0.54443164839561609"
      ]
     },
     "execution_count": 54,
     "metadata": {},
     "output_type": "execute_result"
    }
   ],
   "source": [
    "rmse_rfr\n"
   ]
  },
  {
   "cell_type": "code",
   "execution_count": 56,
   "metadata": {},
   "outputs": [],
   "source": [
    "from sklearn.tree import DecisionTreeRegressor\n",
    "dtr = DecisionTreeRegressor(random_state=42, max_depth=10)\n",
    "dtr.fit(X_train_scaled, y_train)\n",
    "\n",
    "\n",
    "y_pred = dtr.predict(X_test_scaled)\n",
    "mse = mean_squared_error(y_test, y_pred)\n",
    "rmse_dtr = np.sqrt(mse)"
   ]
  },
  {
   "cell_type": "code",
   "execution_count": 60,
   "metadata": {},
   "outputs": [
    {
     "name": "stdout",
     "output_type": "stream",
     "text": [
      "Root mean Squared error for Random Forest Regressor: 0.544431648396\n",
      "Root mean Squared error for Decision Tree Regressor: 0.645885901674\n",
      "Root mean Squared error for Random Search with SVR : 0.570463714768\n"
     ]
    }
   ],
   "source": [
    "print(\"Root mean Squared error for Random Forest Regressor:\",rmse_rfr)\n",
    "print(\"Root mean Squared error for Decision Tree Regressor:\",rmse_dtr)\n",
    "print(\"Root mean Squared error for Random Search with SVR :\",rnd_search_rmse)\n"
   ]
  },
  {
   "cell_type": "markdown",
   "metadata": {},
   "source": [
    "## Random Forest Regrssor is giving better results.  "
   ]
  },
  {
   "cell_type": "markdown",
   "metadata": {},
   "source": [
    "# [Optional Task] Extend Linear SVM classifier via BGD to multiple classes\n",
    "\n",
    "Extend the following implementation of a Linear SVM classifier via batch gradient descent to case there deals with 3 or more   classes.\n",
    "\n",
    "**NOTE** Adopt all the code and experiments in this section and modify as needed to classify the 3-class iris dataset on 2=dimensional input space (petal length, petal width).\n",
    "\n",
    "Please see lecture (video and slides for details of the multiple class training SVM algorithm) and read the next subsection `SVM Multiclass Loss function` to get more background. \n",
    "\n",
    "Please implement the ** vectorized version**  of multiclass Linear SVM.\n",
    "\n",
    "\n",
    "## SVM Multiclass Loss function\n",
    "Quality of weights is often expressed by a loss function, our unhappiness with classification result, and we want its value to be as small as possible. To minimize the loss, we have to define a loss function and find their partial derivatives with respect to the weights to update them iteratively.\n",
    "\n",
    "$$\\begin{equation}\n",
    "L_i = \\sum_{j\\neq y_i} \\left[ \\max(0, x_iw_j - x_iw_{y_i} + \\Delta) \\right] \\tag{1}\n",
    "\\end{equation} \n",
    "$$\n",
    "\n",
    "Where \n",
    "\n",
    "\n",
    "* $i$ iterates over all N examples,\n",
    "* $j$ iterates over all C classes,\n",
    "* $L_i$ is loss for classifying a single example  $x_i$ (row vector),\n",
    "* $w_j$ is the weights (column vector) for computing the score of class j,\n",
    "* $y_i$ is the index of the correct class of $x_i$, and\n",
    "* $Δ$ is a margin parameter which is commonly set to $1$\n",
    "\n",
    "Intuitively, SVM wants score, $x_iw_{y_i}$, of the correct class, $y_i$, to be greater than any other classes, $x_iw_j$, by at least $Δ$ such that the loss becomes zero (clamped with the max operation).\n",
    "\n",
    "### Analytic gradient\n",
    "The gradient of the loss function for a **single example**, $(\\vec{X_i}, y_i)$ can be written in full detail as:\n",
    "\n",
    "$$\\nabla_{w} L_i \n",
    "  =\n",
    "  \\begin{bmatrix}\n",
    "    \\frac{dL_i}{dw_1} & \\frac{dL_i}{dw_2} & \\cdots & \\frac{dL_i}{dw_C} \n",
    "  \\end{bmatrix}\n",
    "  = \n",
    "  \\begin{bmatrix}\n",
    "    \\frac{dL_i}{dw_{11}} & \\frac{dL_i}{dw_{21}} & \\cdots & \\frac{dL_i}{dw_{y_i1}} & \\cdots & \\frac{dL_i}{dw_{C1}} \\\\\n",
    "    \\vdots & \\ddots \\\\\n",
    "    \\frac{dL_i}{dw_{1D}} & \\frac{dL_i}{dw_{2D}} & \\cdots & \\frac{dL_i}{dw_{y_iD}} & \\cdots & \\frac{dL_i}{dw_{CD}} \n",
    "  \\end{bmatrix}\\tag{2}\n",
    "  $$\n",
    "  \n",
    "  First, let’s find a sub-gradient $ \\frac{dL_i}{dw_{11}}$ (one element from equation (2) by considering all the terms in equation (1) (the SVM loss for one example $i$ with respect to all classes):\n",
    "  \n",
    " \n",
    "\\begin{align*}\n",
    "L_i = &\\max(0, x_{i1}w_{11} + x_{i2}w_{12} \\ldots + x_{iD}w_{1D} - x_{i1}w_{y_i1} - x_{i2}w_{y_i2} \\ldots - x_{iD}w_{y_iD} + \\Delta) + \\\\\n",
    " &\\max(0, x_{i1}w_{21} + x_{i2}w_{22} \\ldots + x_{iD}w_{2D} - x_{i1}w_{y_i1} - x_{i2}w_{y_i2} \\ldots - x_{iD}w_{y_iD} + \\Delta) + \\\\\n",
    "&\\quad \\quad \\quad \\quad \\quad \\quad \\quad \\quad \\quad \\quad \\quad \\quad \\quad \\quad \\quad \\quad \\quad \\vdots \\\\\n",
    "&\\max(0, x_{i1}w_{C1} + x_{i2}w_{C2} \\ldots + x_{iD}w_{CD} - x_{i1}w_{y_i1} - x_{i2}w_{y_i2} \\ldots - x_{iD}w_{y_iD} + \\Delta) \\tag{3}\n",
    "\\end{align*} \n",
    "\n",
    "For a general case, if $ (x_iw_1−x_iw_{y_i}+Δ)>0 $:\n",
    "\n",
    "$$\\frac{dL_i}{dw_{11}}=x_{i1} $$\n",
    "\n",
    "\n",
    "Looking closely at this equation: \n",
    "\n",
    "* $w_{11}$ corresponds to first weight in the weigth vector that is normal to the separtating hyperplance for  class 1 and \n",
    "* all terms in equation (3) that do not involve $w_{11}$ go to zero (think of them as a constant being  differentiated)\n",
    "\n",
    "Hence, we consider two cases:\n",
    "\n",
    "* $w_j$ for class weights of  the not class\n",
    "* $w_{y_i}$ for class weights of the  class \n",
    "\n",
    "\n",
    "#### Case 1: $w_j$ for class weights of  the not class\n",
    "\\begin{align*}\n",
    "\\frac{dL_i}{dw_{j}} &= \\mathbb{1}(x_iw_j - x_iw_{y_i} + \\Delta > 0)\n",
    "  \\begin{bmatrix}\n",
    "  x_{i1} \\\\\n",
    "  x_{i2} \\\\\n",
    "  \\vdots \\\\\n",
    "  x_{iD}\n",
    "  \\end{bmatrix}\n",
    "\\\\\n",
    "&= \\mathbb{1}(x_iw_j - x_iw_{y_i} + \\Delta > 0) x_i \\tag{4}\n",
    "\\end{align*}\n",
    "\n",
    "\n",
    "\n",
    "Equivalently, using an indicator function of the form $1(.)$:\n",
    "\n",
    "$$ \\dfrac{dL_i}{dw_{11}} = 1(x_iw_1−x_iw_{y_i}+Δ>0)   = x_{i1} $$\n",
    "\n",
    "\n",
    "#### Case 1:$w_{y_i}$ for class weights of  the not class\n",
    "For a special case where $j=y_i$,\n",
    "\n",
    "\n",
    "$$\n",
    "\\frac{dL_i}{dw_{y_{i1}}} = -(\\ldots) x_{i1}\n",
    "$$\n",
    "\n",
    "\n",
    "The coefficent of $x_{i1}$ is the number of classes that meet the desire margin. Mathematically speaking, $\\sum_{j\\neq y_i} \\mathbb{1}(x_iw_j - x_iw_{y_i} + \\Delta > 0)$. Hence,\n",
    "\n",
    "\n",
    "\n",
    "\\begin{align*}\n",
    "\\frac{dL_i}{dw_{y_i}} &= - \\sum_{j\\neq y_i} \\mathbb{1}(x_iw_j - x_iw_{y_i} + \\Delta > 0)\n",
    "  \\begin{bmatrix}\n",
    "  x_{i1} \\\\\n",
    "  x_{i2} \\\\\n",
    "  \\vdots \\\\\n",
    "  x_{iD}\n",
    "  \\end{bmatrix}\n",
    "\\\\\n",
    "&= - \\sum_{j\\neq y_i} \\mathbb{1}(x_iw_j - x_iw_{y_i} + \\Delta > 0) x_i \\tag{5}\n",
    "\\end{align*}\n",
    "\n",
    "\n",
    "<p>Equipped with equations (1)-(5), we have enough information to implement a loss function and gradient update for a multiclass SVM.</p>\n",
    "\n",
    "<p>The IPython Notebook <a href=\"http://vision.stanford.edu/teaching/cs231n/winter1516_assignment1.zip\">svm.ipynb</a> from <a href=\"http://vision.stanford.edu/teaching/cs231n/syllabus.html\">Stanford CS231n</a> is a great starting point to understand implementation of the SVM classifier. The exercise asks us to implement both non-vectorized and vectorized versions of loss function and gradient update.</p>"
   ]
  },
  {
   "cell_type": "markdown",
   "metadata": {},
   "source": [
    "### non-vectorized-implementation\n",
    "\n",
    "Looking at the terms in equation (1) suggests us to compute scores of all classes with $x_iW$, given an example $x_i$. The loss function can be implemented with two for-loops. The inner loop collects loss of all classes of a single example and the outer loop collects it across all examples. \n",
    "\n",
    "\n",
    "We compute analytic gradient \n",
    "$\\nabla_{w} L_i \n",
    "  =\n",
    "  \\begin{bmatrix}\n",
    "    \\frac{dL_i}{dw_1} & \\frac{dL_i}{dw_2} & \\cdots & \\frac{dL_i}{dw_C} \n",
    "  \\end{bmatrix}\n",
    "$  one element at a time in the inner loop. \n",
    "\n",
    "\n",
    "Considering equation (4) (CASE 1), we compute the gradient w.r.t. weights of class j with `dW[:,j] += X[i,:]`. Note that we use `+=` here as we have to collect the gradient across all classes j and across all examples. Considering equation (5)  (CASE 2), we compute the gradient of class $y_i$ with `dW[:,y[i]] -= X[i,:]`. Unlike the previous case, this single class $y_i$ requires us to count the number of classes that satisfy the margin condition; hence, the use of `-=`.\n",
    "\n"
   ]
  },
  {
   "cell_type": "code",
   "execution_count": 32,
   "metadata": {
    "collapsed": true
   },
   "outputs": [],
   "source": [
    "def svm_loss_naive(W, X, y, reg):\n",
    "  \"\"\"\n",
    "  Structured SVM loss function, naive implementation (with loops).\n",
    "\n",
    "  Inputs have dimension D, there are C classes, and we operate on minibatches\n",
    "  of N examples.\n",
    "\n",
    "  Inputs:\n",
    "  - W: A numpy array of shape (D, C) containing weights.\n",
    "  - X: A numpy array of shape (N, D) containing a minibatch of data.\n",
    "  - y: A numpy array of shape (N,) containing training labels; y[i] = c means\n",
    "    that X[i] has label c, where 0 <= c < C.\n",
    "  - reg: (float) regularization strength\n",
    "\n",
    "  Returns a tuple of:\n",
    "  - loss as single float\n",
    "  - gradient with respect to weights W; an array of same shape as W\n",
    "  \"\"\"\n",
    "  dW = np.zeros(W.shape) # initialize the gradient as zero\n",
    "  \n",
    "  # compute the loss and the gradient\n",
    "  num_classes = W.shape[1]\n",
    "  num_train = X.shape[0]\n",
    "  loss = 0.0\n",
    "  for i in xrange(num_train):\n",
    "    scores = X[i,:].dot(W)\n",
    "    correct_class_score = scores[y[i]]\n",
    "    for j in xrange(num_classes):\n",
    "      if j == y[i]:\n",
    "        continue\n",
    "      margin = scores[j] - correct_class_score + 1 \n",
    "      if margin > 0:\n",
    "        loss += margin\n",
    "        dW[:,y[i]] -= X[i,:] \n",
    "        dW[:,j] += X[i,:] \n",
    "\n",
    "  # Averaging over all examples\n",
    "  loss /= num_train\n",
    "  dW /= num_train\n",
    "\n",
    "  # Add regularization\n",
    "  loss += 0.5 * reg * np.sum(W * W)\n",
    "  dW += reg*W\n",
    "  \n",
    "  return loss, dW"
   ]
  },
  {
   "cell_type": "markdown",
   "metadata": {},
   "source": [
    "### Vectorized implementation (partial)\n",
    "Instead of computing scores for each example, $x_iW$, we can compute them all at once with full matrix multiplication, $XW$. To compute the loss, this score matrix has to be subtracted row-wise by scores of correct classes and then added with Δ. Because the loss equation sums over all j except $y_i$, we have to set the yi component to zero. The trick to select correct-class scores across all examples is to use an array indexing technique together with NumPy’s arange. Please take this idea and implement the vectorized version of a multiclass SVM.\n"
   ]
  },
  {
   "cell_type": "markdown",
   "metadata": {},
   "source": [
    "## Training set"
   ]
  },
  {
   "cell_type": "code",
   "execution_count": 33,
   "metadata": {},
   "outputs": [
    {
     "ename": "NameError",
     "evalue": "name 'datasets' is not defined",
     "output_type": "error",
     "traceback": [
      "\u001b[1;31m---------------------------------------------------------------------------\u001b[0m",
      "\u001b[1;31mNameError\u001b[0m                                 Traceback (most recent call last)",
      "\u001b[1;32m<ipython-input-33-def7b3b8974f>\u001b[0m in \u001b[0;36m<module>\u001b[1;34m()\u001b[0m\n\u001b[1;32m----> 1\u001b[1;33m \u001b[0miris\u001b[0m \u001b[1;33m=\u001b[0m \u001b[0mdatasets\u001b[0m\u001b[1;33m.\u001b[0m\u001b[0mload_iris\u001b[0m\u001b[1;33m(\u001b[0m\u001b[1;33m)\u001b[0m\u001b[1;33m\u001b[0m\u001b[0m\n\u001b[0m\u001b[0;32m      2\u001b[0m \u001b[0mX\u001b[0m \u001b[1;33m=\u001b[0m \u001b[0miris\u001b[0m\u001b[1;33m[\u001b[0m\u001b[1;34m\"data\"\u001b[0m\u001b[1;33m]\u001b[0m\u001b[1;33m[\u001b[0m\u001b[1;33m:\u001b[0m\u001b[1;33m,\u001b[0m \u001b[1;33m(\u001b[0m\u001b[1;36m2\u001b[0m\u001b[1;33m,\u001b[0m \u001b[1;36m3\u001b[0m\u001b[1;33m)\u001b[0m\u001b[1;33m]\u001b[0m  \u001b[1;31m# petal length, petal width\u001b[0m\u001b[1;33m\u001b[0m\u001b[0m\n\u001b[0;32m      3\u001b[0m \u001b[0my\u001b[0m \u001b[1;33m=\u001b[0m \u001b[0miris\u001b[0m\u001b[1;33m.\u001b[0m\u001b[0mtarget\u001b[0m\u001b[1;33m\u001b[0m\u001b[0m\n",
      "\u001b[1;31mNameError\u001b[0m: name 'datasets' is not defined"
     ]
    }
   ],
   "source": [
    "iris = datasets.load_iris()\n",
    "X = iris[\"data\"][:, (2, 3)]  # petal length, petal width\n",
    "y = iris.target\n"
   ]
  },
  {
   "cell_type": "code",
   "execution_count": null,
   "metadata": {
    "collapsed": true
   },
   "outputs": [],
   "source": [
    "from sklearn.base import BaseEstimator\n",
    "\n",
    "class MyLinearSVC(BaseEstimator):\n",
    "    def __init__(self, C=1, eta0=1, eta_d=10000, n_epochs=1000, random_state=None):\n",
    "        self.C = C\n",
    "        self.eta0 = eta0\n",
    "        self.n_epochs = n_epochs\n",
    "        self.random_state = random_state\n",
    "        self.eta_d = eta_d\n",
    "\n",
    "    def eta(self, epoch):\n",
    "        return self.eta0 / (epoch + self.eta_d)\n",
    "        \n",
    "    def fit(self, X, y):\n",
    "        # Random initialization\n",
    "        if self.random_state:\n",
    "            np.random.seed(self.random_state)\n",
    "        w = np.random.randn(X.shape[1], 1) # n feature weights\n",
    "        b = 0\n",
    "\n",
    "        m = len(X)\n",
    "        t = y * 2 - 1  # -1 if t==0, +1 if t==1\n",
    "        X_t = X * t\n",
    "        self.Js=[]\n",
    "\n",
    "        # Training\n",
    "        for epoch in range(self.n_epochs):\n",
    "            support_vectors_idx = (X_t.dot(w) + t * b < 1).ravel()\n",
    "            X_t_sv = X_t[support_vectors_idx]\n",
    "            t_sv = t[support_vectors_idx]\n",
    "\n",
    "            J = 1/2 * np.sum(w * w) + self.C * (np.sum(1 - X_t_sv.dot(w)) - b * np.sum(t_sv))\n",
    "            self.Js.append(J)\n",
    "\n",
    "            w_gradient_vector = w - self.C * np.sum(X_t_sv, axis=0).reshape(-1, 1)\n",
    "            b_derivative = -C * np.sum(t_sv)\n",
    "                \n",
    "            w = w - self.eta(epoch) * w_gradient_vector\n",
    "            b = b - self.eta(epoch) * b_derivative\n",
    "            \n",
    "\n",
    "        self.intercept_ = np.array([b])\n",
    "        self.coef_ = np.array([w])\n",
    "        support_vectors_idx = (X_t.dot(w) + b < 1).ravel()\n",
    "        self.support_vectors_ = X[support_vectors_idx]\n",
    "        return self\n",
    "\n",
    "    def decision_function(self, X):\n",
    "        return X.dot(self.coef_[0]) + self.intercept_[0]\n",
    "\n",
    "    def predict(self, X):\n",
    "        return (self.decision_function(X) >= 0).astype(np.float64)\n",
    "\n",
    "C=2\n",
    "svm_clf = MyLinearSVC(C=C, eta0 = 10, eta_d = 1000, n_epochs=60000, random_state=2)\n",
    "svm_clf.fit(X, y)\n",
    "svm_clf.predict(np.array([[5, 2], [4, 1]]))"
   ]
  },
  {
   "cell_type": "code",
   "execution_count": null,
   "metadata": {
    "collapsed": true
   },
   "outputs": [],
   "source": [
    "plt.plot(range(svm_clf.n_epochs), svm_clf.Js)\n",
    "plt.axis([0, svm_clf.n_epochs, 0, 100])"
   ]
  },
  {
   "cell_type": "code",
   "execution_count": null,
   "metadata": {
    "collapsed": true
   },
   "outputs": [],
   "source": [
    "print(svm_clf.intercept_, svm_clf.coef_)"
   ]
  },
  {
   "cell_type": "code",
   "execution_count": null,
   "metadata": {
    "collapsed": true
   },
   "outputs": [],
   "source": [
    "svm_clf2 = SVC(kernel=\"linear\", C=C)\n",
    "svm_clf2.fit(X, y.ravel())\n",
    "print(svm_clf2.intercept_, svm_clf2.coef_)"
   ]
  },
  {
   "cell_type": "code",
   "execution_count": null,
   "metadata": {
    "collapsed": true
   },
   "outputs": [],
   "source": [
    "yr = y.ravel()\n",
    "plt.figure(figsize=(12,3.2))\n",
    "plt.subplot(121)\n",
    "plt.plot(X[:, 0][yr==1], X[:, 1][yr==1], \"g^\", label=\"Iris-Virginica\")\n",
    "plt.plot(X[:, 0][yr==0], X[:, 1][yr==0], \"bs\", label=\"Not Iris-Virginica\")\n",
    "plot_svc_decision_boundary(svm_clf, 4, 6)\n",
    "plt.xlabel(\"Petal length\", fontsize=14)\n",
    "plt.ylabel(\"Petal width\", fontsize=14)\n",
    "plt.title(\"MyLinearSVC\", fontsize=14)\n",
    "plt.axis([4, 6, 0.8, 2.8])\n",
    "\n",
    "plt.subplot(122)\n",
    "plt.plot(X[:, 0][yr==1], X[:, 1][yr==1], \"g^\")\n",
    "plt.plot(X[:, 0][yr==0], X[:, 1][yr==0], \"bs\")\n",
    "plot_svc_decision_boundary(svm_clf2, 4, 6)\n",
    "plt.xlabel(\"Petal length\", fontsize=14)\n",
    "plt.title(\"SVC\", fontsize=14)\n",
    "plt.axis([4, 6, 0.8, 2.8])\n"
   ]
  },
  {
   "cell_type": "code",
   "execution_count": null,
   "metadata": {
    "collapsed": true,
    "scrolled": true
   },
   "outputs": [],
   "source": [
    "from sklearn.linear_model import SGDClassifier\n",
    "\n",
    "sgd_clf = SGDClassifier(loss=\"hinge\", alpha = 0.017, n_iter = 50, random_state=42)\n",
    "sgd_clf.fit(X, y.ravel())\n",
    "\n",
    "m = len(X)\n",
    "t = y * 2 - 1  # -1 if t==0, +1 if t==1\n",
    "X_b = np.c_[np.ones((m, 1)), X]  # Add bias input x0=1\n",
    "X_b_t = X_b * t\n",
    "sgd_theta = np.r_[sgd_clf.intercept_[0], sgd_clf.coef_[0]]\n",
    "print(sgd_theta)\n",
    "support_vectors_idx = (X_b_t.dot(sgd_theta) < 1).ravel()\n",
    "sgd_clf.support_vectors_ = X[support_vectors_idx]\n",
    "sgd_clf.C = C\n",
    "\n",
    "plt.figure(figsize=(5.5,3.2))\n",
    "plt.plot(X[:, 0][yr==1], X[:, 1][yr==1], \"g^\")\n",
    "plt.plot(X[:, 0][yr==0], X[:, 1][yr==0], \"bs\")\n",
    "plot_svc_decision_boundary(sgd_clf, 4, 6)\n",
    "plt.xlabel(\"Petal length\", fontsize=14)\n",
    "plt.ylabel(\"Petal width\", fontsize=14)\n",
    "plt.title(\"SGDClassifier\", fontsize=14)\n",
    "plt.axis([4, 6, 0.8, 2.8])\n"
   ]
  },
  {
   "cell_type": "markdown",
   "metadata": {},
   "source": [
    "## compare homegrown with LinearSVC and SVC "
   ]
  },
  {
   "cell_type": "markdown",
   "metadata": {},
   "source": [
    "_Exercise: train a `LinearSVC` on a linearly separable dataset. Then train an `SVC` and a `SGDClassifier` on the same dataset. See if you can get them to produce roughly the same model._"
   ]
  },
  {
   "cell_type": "markdown",
   "metadata": {},
   "source": [
    "Let's use the Iris dataset: the Iris Setosa and Iris Versicolor classes are linearly separable."
   ]
  },
  {
   "cell_type": "code",
   "execution_count": null,
   "metadata": {
    "collapsed": true
   },
   "outputs": [],
   "source": [
    "from sklearn import datasets\n",
    "\n",
    "iris = datasets.load_iris()\n",
    "X = iris[\"data\"][:, (2, 3)]  # petal length, petal width\n",
    "y = iris[\"target\"]\n",
    "\n",
    "setosa_or_versicolor = (y == 0) | (y == 1)\n",
    "X = X[setosa_or_versicolor]\n",
    "y = y[setosa_or_versicolor]"
   ]
  },
  {
   "cell_type": "code",
   "execution_count": null,
   "metadata": {
    "collapsed": true
   },
   "outputs": [],
   "source": [
    "from sklearn.svm import SVC, LinearSVC\n",
    "from sklearn.linear_model import SGDClassifier\n",
    "from sklearn.preprocessing import StandardScaler\n",
    "\n",
    "C = 5\n",
    "alpha = 1 / (C * len(X))\n",
    "\n",
    "lin_clf = LinearSVC(loss=\"hinge\", C=C, random_state=42)\n",
    "svm_clf = SVC(kernel=\"linear\", C=C)\n",
    "sgd_clf = SGDClassifier(loss=\"hinge\", learning_rate=\"constant\", eta0=0.001, alpha=alpha,\n",
    "                        n_iter=100000, random_state=42)\n",
    "\n",
    "scaler = StandardScaler()\n",
    "X_scaled = scaler.fit_transform(X)\n",
    "\n",
    "lin_clf.fit(X_scaled, y)\n",
    "svm_clf.fit(X_scaled, y)\n",
    "sgd_clf.fit(X_scaled, y)\n",
    "\n",
    "print(\"LinearSVC:                   \", lin_clf.intercept_, lin_clf.coef_)\n",
    "print(\"SVC:                         \", svm_clf.intercept_, svm_clf.coef_)\n",
    "print(\"SGDClassifier(alpha={:.5f}):\".format(sgd_clf.alpha), sgd_clf.intercept_, sgd_clf.coef_)"
   ]
  },
  {
   "cell_type": "markdown",
   "metadata": {},
   "source": [
    "Let's plot the decision boundaries of these three models:"
   ]
  },
  {
   "cell_type": "code",
   "execution_count": null,
   "metadata": {
    "collapsed": true
   },
   "outputs": [],
   "source": [
    "# Compute the slope and bias of each decision boundary\n",
    "w1 = -lin_clf.coef_[0, 0]/lin_clf.coef_[0, 1]\n",
    "b1 = -lin_clf.intercept_[0]/lin_clf.coef_[0, 1]\n",
    "w2 = -svm_clf.coef_[0, 0]/svm_clf.coef_[0, 1]\n",
    "b2 = -svm_clf.intercept_[0]/svm_clf.coef_[0, 1]\n",
    "w3 = -sgd_clf.coef_[0, 0]/sgd_clf.coef_[0, 1]\n",
    "b3 = -sgd_clf.intercept_[0]/sgd_clf.coef_[0, 1]\n",
    "\n",
    "# Transform the decision boundary lines back to the original scale\n",
    "line1 = scaler.inverse_transform([[-10, -10 * w1 + b1], [10, 10 * w1 + b1]])\n",
    "line2 = scaler.inverse_transform([[-10, -10 * w2 + b2], [10, 10 * w2 + b2]])\n",
    "line3 = scaler.inverse_transform([[-10, -10 * w3 + b3], [10, 10 * w3 + b3]])\n",
    "\n",
    "# Plot all three decision boundaries\n",
    "plt.figure(figsize=(11, 4))\n",
    "plt.plot(line1[:, 0], line1[:, 1], \"k:\", label=\"LinearSVC\")\n",
    "plt.plot(line2[:, 0], line2[:, 1], \"b--\", linewidth=2, label=\"SVC\")\n",
    "plt.plot(line3[:, 0], line3[:, 1], \"r-\", label=\"SGDClassifier\")\n",
    "plt.plot(X[:, 0][y==1], X[:, 1][y==1], \"bs\") # label=\"Iris-Versicolor\"\n",
    "plt.plot(X[:, 0][y==0], X[:, 1][y==0], \"yo\") # label=\"Iris-Setosa\"\n",
    "plt.xlabel(\"Petal length\", fontsize=14)\n",
    "plt.ylabel(\"Petal width\", fontsize=14)\n",
    "plt.legend(loc=\"upper center\", fontsize=14)\n",
    "plt.axis([0, 5.5, 0, 2])\n",
    "\n",
    "plt.show()"
   ]
  },
  {
   "cell_type": "markdown",
   "metadata": {},
   "source": [
    "Close enough!"
   ]
  }
 ],
 "metadata": {
  "kernelspec": {
   "display_name": "Python 3",
   "language": "python",
   "name": "python3"
  },
  "language_info": {
   "codemirror_mode": {
    "name": "ipython",
    "version": 3
   },
   "file_extension": ".py",
   "mimetype": "text/x-python",
   "name": "python",
   "nbconvert_exporter": "python",
   "pygments_lexer": "ipython3",
   "version": "3.6.1"
  },
  "nav_menu": {},
  "toc": {
   "nav_menu": {},
   "number_sections": true,
   "sideBar": true,
   "skip_h1_title": false,
   "toc_cell": false,
   "toc_position": {},
   "toc_section_display": "block",
   "toc_window_display": true
  }
 },
 "nbformat": 4,
 "nbformat_minor": 1
}
